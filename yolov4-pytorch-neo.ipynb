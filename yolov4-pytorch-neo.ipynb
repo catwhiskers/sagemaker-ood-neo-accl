{
 "cells": [
  {
   "cell_type": "code",
   "execution_count": null,
   "id": "e881591e",
   "metadata": {},
   "outputs": [],
   "source": [
    "import numpy as np\n",
    "import time\n",
    "import json\n",
    "import requests\n",
    "import boto3\n",
    "import os\n",
    "import sagemaker\n"
   ]
  },
  {
   "cell_type": "code",
   "execution_count": null,
   "id": "b663bdc3",
   "metadata": {},
   "outputs": [],
   "source": [
    "from sagemaker import get_execution_role\n",
    "from sagemaker.session import Session\n",
    "\n",
    "role = get_execution_role()\n",
    "sess = Session()\n",
    "region = sess.boto_region_name\n",
    "bucket = sess.default_bucket()\n",
    "\n",
    "import torch\n",
    "print(torch.__version__)\n"
   ]
  },
  {
   "cell_type": "code",
   "execution_count": null,
   "id": "87611249",
   "metadata": {},
   "outputs": [],
   "source": [
    "import sys\n",
    "print(sys.version)\n"
   ]
  },
  {
   "cell_type": "code",
   "execution_count": null,
   "id": "7b3da9d8",
   "metadata": {},
   "outputs": [],
   "source": [
    "model_archive = 'yolov4.tar.gz'\n",
    "!wget https://aws-ml-blog-artifacts.s3.us-east-2.amazonaws.com/yolov4.tar.gz\n"
   ]
  },
  {
   "cell_type": "code",
   "execution_count": null,
   "id": "9dc32e5e",
   "metadata": {},
   "outputs": [],
   "source": [
    "from sagemaker.utils import name_from_base\n",
    "compilation_job_name = name_from_base('torchvision-yolov4-neo-1')\n",
    "prefix = compilation_job_name+'/model'\n",
    "model_path = sess.upload_data(path=model_archive, key_prefix=prefix)\n",
    "compiled_model_path = 's3://{}/{}/output'.format(bucket, compilation_job_name)\n"
   ]
  },
  {
   "cell_type": "code",
   "execution_count": null,
   "id": "05ddfe8a",
   "metadata": {},
   "outputs": [],
   "source": [
    "framework_version = '1.6'\n",
    "py_version = 'py3'\n",
    "instance_type = 'ml.c5.9xlarge'\n",
    "from sagemaker.pytorch.model import PyTorchModel\n",
    "from sagemaker.predictor import Predictor\n",
    "\n",
    "sm_model = PyTorchModel(model_data=model_path,\n",
    "                               framework_version=framework_version,\n",
    "                               role=role,\n",
    "                               sagemaker_session=sess,\n",
    "                               entry_point='inference_vanilla.py',\n",
    "                               py_version=py_version,\n",
    "                               env={\"COMPILEDMODEL\": 'False', 'MMS_MAX_RESPONSE_SIZE': '100000000', 'MMS_DEFAULT_RESPONSE_TIMEOUT': '500'}\n",
    "                              )\n",
    "uncompiled_predictor = sm_model.deploy(initial_instance_count=1, instance_type=instance_type)\n"
   ]
  },
  {
   "cell_type": "code",
   "execution_count": null,
   "id": "d12d3dc0",
   "metadata": {},
   "outputs": [],
   "source": [
    "input_layer_name = 'input0'\n",
    "input_shape = [1,3,416,416]\n",
    "data_shape = json.dumps({input_layer_name: input_shape})\n",
    "target_device = 'ml_c5'\n",
    "framework = 'PYTORCH'\n",
    "from sagemaker.predictor import Predictor\n",
    "compiled_env = {\"MMS_DEFAULT_WORKERS_PER_MODEL\":'1', \"TVM_NUM_THREADS\": '36', \"COMPILEDMODEL\": 'True', 'MMS_MAX_RESPONSE_SIZE': '100000000', 'MMS_DEFAULT_RESPONSE_TIMEOUT': '500'}\n",
    "sm_model_compiled = PyTorchModel(model_data=model_path,\n",
    "                               framework_version = framework_version,\n",
    "                               role=role,\n",
    "                               sagemaker_session=sess,\n",
    "                               entry_point='inference.py',\n",
    "                               predictor_cls=Predictor,\n",
    "                               py_version=py_version,\n",
    "                               env=compiled_env\n",
    "                              )\n",
    "compiled_model = sm_model_compiled.compile(target_instance_family=target_device, \n",
    "                                         input_shape=data_shape,\n",
    "                                         job_name=compilation_job_name,\n",
    "                                         role=role,\n",
    "                                         framework=framework.lower(),\n",
    "                                         framework_version=framework_version,\n",
    "                                         output_path=compiled_model_path\n",
    "                                        )\n"
   ]
  },
  {
   "cell_type": "code",
   "execution_count": null,
   "id": "cd4ad724",
   "metadata": {},
   "outputs": [],
   "source": [
    "\n",
    "optimized_predictor = compiled_model.deploy(initial_instance_count = 1,\n",
    "                                  instance_type = instance_type \n",
    "#                                   serializer=sagemaker.serializers.IdentitySerializer(), \n",
    "#                                   deserializer=sagemaker.deserializers.BytesDeserializer()\n",
    "                                 )\n"
   ]
  },
  {
   "cell_type": "code",
   "execution_count": null,
   "id": "fdc751bb",
   "metadata": {},
   "outputs": [],
   "source": [
    "iters = 1000\n",
    "warmup = 100\n",
    "client = boto3.client('sagemaker-runtime', region_name=region)\n",
    "\n",
    "content_type = 'application/x-image'\n",
    "\n",
    "sample_img_url = \"https://github.com/ultralytics/yolov5/raw/master/data/images/zidane.jpg\"\n",
    "body = requests.get(sample_img_url).content\n",
    "   \n",
    "compiled_perf = []\n",
    "uncompiled_perf = []\n",
    "\n",
    "\n",
    "for i in range(0, iters):\n",
    "    t0 = time.time()\n",
    "    response = client.invoke_endpoint(EndpointName=optimized_predictor.endpoint_name, Body=body, ContentType=content_type)\n",
    "    t1 = time.time()\n",
    "    #convert to millis\n",
    "    compiled_elapsed = (t1-t0)*1000\n",
    "\n",
    "    t0 = time.time()\n",
    "    response = client.invoke_endpoint(EndpointName=uncompiled_predictor.endpoint_name, Body=body, ContentType=content_type)\n",
    "    t1 = time.time()\n",
    "    #convert to millis\n",
    "    uncompiled_elapsed = (t1-t0)*1000\n",
    "    \n",
    "\n",
    "    if warmup == 0:\n",
    "        compiled_perf.append(compiled_elapsed)\n",
    "        uncompiled_perf.append(uncompiled_elapsed)\n",
    "    else:\n",
    "        print(f'warmup ({i}, {iters}) : c - {compiled_elapsed} ms . uc - {uncompiled_elapsed} ms')\n",
    "# # #         warmup = warmup – 1\n"
   ]
  },
  {
   "cell_type": "code",
   "execution_count": null,
   "id": "6ff76365",
   "metadata": {},
   "outputs": [],
   "source": []
  }
 ],
 "metadata": {
  "kernelspec": {
   "display_name": "conda_pytorch_latest_p37",
   "language": "python",
   "name": "conda_pytorch_latest_p37"
  },
  "language_info": {
   "codemirror_mode": {
    "name": "ipython",
    "version": 3
   },
   "file_extension": ".py",
   "mimetype": "text/x-python",
   "name": "python",
   "nbconvert_exporter": "python",
   "pygments_lexer": "ipython3",
   "version": "3.7.10"
  }
 },
 "nbformat": 4,
 "nbformat_minor": 5
}
